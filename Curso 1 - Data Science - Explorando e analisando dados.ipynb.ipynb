{
  "nbformat": 4,
  "nbformat_minor": 0,
  "metadata": {
    "colab": {
      "provenance": []
    },
    "kernelspec": {
      "name": "python3",
      "display_name": "Python 3"
    },
    "language_info": {
      "name": "python"
    }
  },
  "cells": [
    {
      "cell_type": "markdown",
      "source": [
        "## Conhecendo os dados"
      ],
      "metadata": {
        "id": "7lDFJLyZX2z6"
      }
    },
    {
      "cell_type": "code",
      "source": [],
      "metadata": {
        "id": "BdxeygK4X5lY"
      },
      "execution_count": null,
      "outputs": []
    }
  ]
}