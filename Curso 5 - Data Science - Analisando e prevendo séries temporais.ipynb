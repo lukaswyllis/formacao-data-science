{
  "cells": [
    {
      "cell_type": "markdown",
      "source": [
        "## Preparando e processando os dados"
      ],
      "metadata": {
        "id": "nlBO9g6fF43x"
      }
    },
    {
      "cell_type": "code",
      "source": [],
      "metadata": {
        "id": "zMtn9YVVF7IS"
      },
      "execution_count": null,
      "outputs": []
    }
  ],
  "metadata": {
    "colab": {
      "provenance": []
    },
    "kernelspec": {
      "display_name": "Python 3",
      "name": "python3"
    },
    "language_info": {
      "name": "python"
    }
  },
  "nbformat": 4,
  "nbformat_minor": 0
}