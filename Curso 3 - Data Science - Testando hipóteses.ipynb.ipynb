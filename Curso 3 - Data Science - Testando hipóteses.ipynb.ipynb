{
  "cells": [
    {
      "cell_type": "markdown",
      "source": [
        "## Conhecendo a metodologia"
      ],
      "metadata": {
        "id": "XrdYXg5_BlEb"
      }
    },
    {
      "cell_type": "code",
      "source": [],
      "metadata": {
        "id": "LDe9YslCBmYp"
      },
      "execution_count": null,
      "outputs": []
    }
  ],
  "metadata": {
    "colab": {
      "provenance": []
    },
    "kernelspec": {
      "display_name": "Python 3",
      "name": "python3"
    },
    "language_info": {
      "name": "python"
    }
  },
  "nbformat": 4,
  "nbformat_minor": 0
}